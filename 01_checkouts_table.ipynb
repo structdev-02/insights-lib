{
 "cells": [
  {
   "cell_type": "code",
   "execution_count": 85,
   "metadata": {},
   "outputs": [],
   "source": [
    "import pandas as pd\n",
    "\n",
    "pd.set_option('display.max_columns', None)\n",
    "pd.set_option('display.max_rows', None)"
   ]
  },
  {
   "cell_type": "markdown",
   "metadata": {},
   "source": [
    "# Checkouts Table\n",
    "\n",
    "This notebook contains exploratory data analysis (EDA) and preprocessing steps for the `checkouts` table.\n",
    "\n",
    "The main tasks include:\n",
    "- Fixing inconsistent or incorrectly formatted checkout and return dates\n",
    "- Detecting and correcting logical issues, such as return dates that precede checkout dates\n"
   ]
  },
  {
   "cell_type": "markdown",
   "metadata": {},
   "source": [
    "## Load checkouts table"
   ]
  },
  {
   "cell_type": "code",
   "execution_count": 86,
   "metadata": {},
   "outputs": [
    {
     "data": {
      "text/html": [
       "<div>\n",
       "<style scoped>\n",
       "    .dataframe tbody tr th:only-of-type {\n",
       "        vertical-align: middle;\n",
       "    }\n",
       "\n",
       "    .dataframe tbody tr th {\n",
       "        vertical-align: top;\n",
       "    }\n",
       "\n",
       "    .dataframe thead th {\n",
       "        text-align: right;\n",
       "    }\n",
       "</style>\n",
       "<table border=\"1\" class=\"dataframe\">\n",
       "  <thead>\n",
       "    <tr style=\"text-align: right;\">\n",
       "      <th></th>\n",
       "      <th>id</th>\n",
       "      <th>patron_id</th>\n",
       "      <th>library_id</th>\n",
       "      <th>date_checkout</th>\n",
       "      <th>date_returned</th>\n",
       "    </tr>\n",
       "  </thead>\n",
       "  <tbody>\n",
       "    <tr>\n",
       "      <th>0</th>\n",
       "      <td>-xFj0vTLbRIC</td>\n",
       "      <td>b071c9c68228a2b1d00e6f53677e16da</td>\n",
       "      <td>225-222@5xc-jtz-hkf</td>\n",
       "      <td>2019-01-28</td>\n",
       "      <td>2018-11-13</td>\n",
       "    </tr>\n",
       "    <tr>\n",
       "      <th>1</th>\n",
       "      <td>HUX-y4oXl04C</td>\n",
       "      <td>8d3f63e1deed89d7ba1bf6a4eb101373</td>\n",
       "      <td>223-222@5xc-jxr-tgk</td>\n",
       "      <td>2018-05-29</td>\n",
       "      <td>2018-06-12</td>\n",
       "    </tr>\n",
       "    <tr>\n",
       "      <th>2</th>\n",
       "      <td>TQpFnkku2poC</td>\n",
       "      <td>4ae202f8de762591734705e0079d76df</td>\n",
       "      <td>228-222@5xc-jtz-hwk</td>\n",
       "      <td>2018-11-23</td>\n",
       "      <td>2019-01-24</td>\n",
       "    </tr>\n",
       "    <tr>\n",
       "      <th>3</th>\n",
       "      <td>OQ6sDwAAQBAJ</td>\n",
       "      <td>f9372de3c8ea501601aa3fb59ec0f524</td>\n",
       "      <td>23v-222@5xc-jv7-v4v</td>\n",
       "      <td>2018-01-15</td>\n",
       "      <td>2018-04-25</td>\n",
       "    </tr>\n",
       "    <tr>\n",
       "      <th>4</th>\n",
       "      <td>7T9-BAAAQBAJ</td>\n",
       "      <td>2cf3cc3b9e9f6c608767da8d350f77c9</td>\n",
       "      <td>225-222@5xc-jtz-hkf</td>\n",
       "      <td>2018-12-31</td>\n",
       "      <td>1804-01-23</td>\n",
       "    </tr>\n",
       "  </tbody>\n",
       "</table>\n",
       "</div>"
      ],
      "text/plain": [
       "             id                         patron_id           library_id  \\\n",
       "0  -xFj0vTLbRIC  b071c9c68228a2b1d00e6f53677e16da  225-222@5xc-jtz-hkf   \n",
       "1  HUX-y4oXl04C  8d3f63e1deed89d7ba1bf6a4eb101373  223-222@5xc-jxr-tgk   \n",
       "2  TQpFnkku2poC  4ae202f8de762591734705e0079d76df  228-222@5xc-jtz-hwk   \n",
       "3  OQ6sDwAAQBAJ  f9372de3c8ea501601aa3fb59ec0f524  23v-222@5xc-jv7-v4v   \n",
       "4  7T9-BAAAQBAJ  2cf3cc3b9e9f6c608767da8d350f77c9  225-222@5xc-jtz-hkf   \n",
       "\n",
       "  date_checkout date_returned  \n",
       "0    2019-01-28    2018-11-13  \n",
       "1    2018-05-29    2018-06-12  \n",
       "2    2018-11-23    2019-01-24  \n",
       "3    2018-01-15    2018-04-25  \n",
       "4    2018-12-31    1804-01-23  "
      ]
     },
     "execution_count": 86,
     "metadata": {},
     "output_type": "execute_result"
    }
   ],
   "source": [
    "file_path = 'data/checkouts.csv'\n",
    "checkouts_df = pd.read_csv(file_path)\n",
    "checkouts_df.head()"
   ]
  },
  {
   "cell_type": "markdown",
   "metadata": {},
   "source": [
    "## Fix dates"
   ]
  },
  {
   "cell_type": "code",
   "execution_count": 87,
   "metadata": {},
   "outputs": [],
   "source": [
    "### Example formats \n",
    "\n",
    "# 2019-01-28\n",
    "# 20180612\n",
    "# Question - if date returned is empty, does that means books was never returned ? \n",
    "# 2018 03 31%\n",
    "# %2018/11/24\n",
    "# 2018|07|06%"
   ]
  },
  {
   "cell_type": "code",
   "execution_count": 88,
   "metadata": {},
   "outputs": [],
   "source": [
    "def str_to_yyyy_mm_dd(val):\n",
    "    \"\"\"\n",
    "    If input is a string of length 8 and all digits, formats it as YYYY-MM-DD.\n",
    "    Otherwise, returns it unchanged.\n",
    "    \"\"\"\n",
    "    if isinstance(val, str) and len(val) == 8 and val.isdigit():\n",
    "        return f\"{val[:4]}-{val[4:6]}-{val[6:]}\"\n",
    "    return val\n"
   ]
  },
  {
   "cell_type": "markdown",
   "metadata": {},
   "source": [
    "#### Fix date formating"
   ]
  },
  {
   "cell_type": "code",
   "execution_count": 89,
   "metadata": {},
   "outputs": [],
   "source": [
    "# If date checkout is missing, it can not be filled, drop all such rows\n",
    "checkouts_df = checkouts_df.dropna(subset=['date_checkout'], ignore_index=True)\n",
    "\n",
    "# Replace '\\' and '/' with '-'\n",
    "checkouts_df['date_checkout'] = checkouts_df['date_checkout'].str.replace(r'[\\/|]', '-', regex=True)\n",
    "checkouts_df['date_returned'] = checkouts_df['date_returned'].str.replace(r'[\\/|]', '-', regex=True)\n",
    "\n",
    "# Replace '%' with '-'\n",
    "checkouts_df['date_checkout'] = checkouts_df['date_checkout'].str.replace('%', '')\n",
    "checkouts_df['date_returned'] = checkouts_df['date_returned'].str.replace('%', '')\n",
    "\n",
    "# Replace trailing spaces\n",
    "checkouts_df['date_checkout'] = checkouts_df['date_checkout'].str.strip()\n",
    "checkouts_df['date_returned'] = checkouts_df['date_returned'].str.strip()\n",
    "\n",
    "# Format \n",
    "checkouts_df['date_checkout'] = checkouts_df['date_checkout'].apply(str_to_yyyy_mm_dd)\n",
    "checkouts_df['date_returned'] = checkouts_df['date_returned'].apply(str_to_yyyy_mm_dd)\n",
    "\n",
    "# Add '-' to strings formated like 20190128\n",
    "checkouts_df['date_checkout'] = pd.to_datetime(checkouts_df['date_checkout'], errors='coerce')\n",
    "checkouts_df['date_returned'] = pd.to_datetime(checkouts_df['date_returned'], errors='coerce')\n",
    "\n",
    "# Calculate time difference between dates books was taken and returned\n",
    "checkouts_df['days_diff'] = (checkouts_df['date_returned'] - checkouts_df['date_checkout']).dt.days"
   ]
  },
  {
   "cell_type": "code",
   "execution_count": 90,
   "metadata": {},
   "outputs": [
    {
     "data": {
      "text/plain": [
       "date_returned\n",
       "2018.0    1589\n",
       "2019.0     104\n",
       "2112.0      10\n",
       "2117.0       9\n",
       "1802.0       8\n",
       "1807.0       7\n",
       "1809.0       7\n",
       "2113.0       7\n",
       "1819.0       6\n",
       "1805.0       6\n",
       "1813.0       6\n",
       "2111.0       6\n",
       "2116.0       6\n",
       "2107.0       5\n",
       "2114.0       5\n",
       "2103.0       5\n",
       "2115.0       5\n",
       "1812.0       5\n",
       "2104.0       5\n",
       "2105.0       5\n",
       "1804.0       4\n",
       "2106.0       4\n",
       "2118.0       4\n",
       "1815.0       4\n",
       "1811.0       4\n",
       "2108.0       3\n",
       "1806.0       3\n",
       "2119.0       3\n",
       "1818.0       3\n",
       "1808.0       3\n",
       "2100.0       3\n",
       "1814.0       3\n",
       "1800.0       3\n",
       "2110.0       3\n",
       "1816.0       2\n",
       "2102.0       2\n",
       "1817.0       2\n",
       "2101.0       2\n",
       "2120.0       2\n",
       "1803.0       2\n",
       "1810.0       2\n",
       "2109.0       1\n",
       "1820.0       1\n",
       "1801.0       1\n",
       "Name: count, dtype: int64"
      ]
     },
     "execution_count": 90,
     "metadata": {},
     "output_type": "execute_result"
    }
   ],
   "source": [
    "# Check distribution of yeats \n",
    "# Conclusion - all valid dates come from 2018 and 2019, all other years are most likely typos\n",
    "checkouts_df['date_returned'].dt.year.value_counts()"
   ]
  },
  {
   "cell_type": "code",
   "execution_count": 91,
   "metadata": {},
   "outputs": [
    {
     "data": {
      "text/html": [
       "<div>\n",
       "<style scoped>\n",
       "    .dataframe tbody tr th:only-of-type {\n",
       "        vertical-align: middle;\n",
       "    }\n",
       "\n",
       "    .dataframe tbody tr th {\n",
       "        vertical-align: top;\n",
       "    }\n",
       "\n",
       "    .dataframe thead th {\n",
       "        text-align: right;\n",
       "    }\n",
       "</style>\n",
       "<table border=\"1\" class=\"dataframe\">\n",
       "  <thead>\n",
       "    <tr style=\"text-align: right;\">\n",
       "      <th></th>\n",
       "      <th>id</th>\n",
       "      <th>patron_id</th>\n",
       "      <th>library_id</th>\n",
       "      <th>date_checkout</th>\n",
       "      <th>date_returned</th>\n",
       "      <th>days_diff</th>\n",
       "    </tr>\n",
       "  </thead>\n",
       "  <tbody>\n",
       "    <tr>\n",
       "      <th>0</th>\n",
       "      <td>-xFj0vTLbRIC</td>\n",
       "      <td>b071c9c68228a2b1d00e6f53677e16da</td>\n",
       "      <td>225-222@5xc-jtz-hkf</td>\n",
       "      <td>2019-01-28</td>\n",
       "      <td>2018-11-13</td>\n",
       "      <td>-76.0</td>\n",
       "    </tr>\n",
       "    <tr>\n",
       "      <th>680</th>\n",
       "      <td>PjQDAAAAQAAJ</td>\n",
       "      <td>c6bb1a8f3d393ed0609659d8ae29e534</td>\n",
       "      <td>226-222@5xc-jxj-7yv</td>\n",
       "      <td>2019-01-04</td>\n",
       "      <td>2018-12-25</td>\n",
       "      <td>-10.0</td>\n",
       "    </tr>\n",
       "    <tr>\n",
       "      <th>843</th>\n",
       "      <td>__RYAAAAYAAJ</td>\n",
       "      <td>dc10933e4cc9edd0480dbf16044f9832</td>\n",
       "      <td>22c-222@5xc-jwj-pvz</td>\n",
       "      <td>2019-01-17</td>\n",
       "      <td>2018-12-27</td>\n",
       "      <td>-21.0</td>\n",
       "    </tr>\n",
       "    <tr>\n",
       "      <th>1229</th>\n",
       "      <td>oFWsXm1zZCcC</td>\n",
       "      <td>3c06873ad81b5b584ee8dee614498cd8</td>\n",
       "      <td>zzw-222@5xc-jv4-789</td>\n",
       "      <td>2019-02-04</td>\n",
       "      <td>2018-09-26</td>\n",
       "      <td>-131.0</td>\n",
       "    </tr>\n",
       "    <tr>\n",
       "      <th>1756</th>\n",
       "      <td>PjQDAAAAQAAJ</td>\n",
       "      <td>e785b5a890df9f0e9e0a2b58a5c9c932</td>\n",
       "      <td>224-222@5xc-jw2-t9z</td>\n",
       "      <td>2019-01-27</td>\n",
       "      <td>2018-09-23</td>\n",
       "      <td>-126.0</td>\n",
       "    </tr>\n",
       "    <tr>\n",
       "      <th>1903</th>\n",
       "      <td>Q14YAAAAYAAJ</td>\n",
       "      <td>97b774130d1301292f3332a4dca59196</td>\n",
       "      <td>228-222@5xc-jtz-hwk</td>\n",
       "      <td>2019-01-05</td>\n",
       "      <td>2018-12-29</td>\n",
       "      <td>-7.0</td>\n",
       "    </tr>\n",
       "  </tbody>\n",
       "</table>\n",
       "</div>"
      ],
      "text/plain": [
       "                id                         patron_id           library_id  \\\n",
       "0     -xFj0vTLbRIC  b071c9c68228a2b1d00e6f53677e16da  225-222@5xc-jtz-hkf   \n",
       "680   PjQDAAAAQAAJ  c6bb1a8f3d393ed0609659d8ae29e534  226-222@5xc-jxj-7yv   \n",
       "843   __RYAAAAYAAJ  dc10933e4cc9edd0480dbf16044f9832  22c-222@5xc-jwj-pvz   \n",
       "1229  oFWsXm1zZCcC  3c06873ad81b5b584ee8dee614498cd8  zzw-222@5xc-jv4-789   \n",
       "1756  PjQDAAAAQAAJ  e785b5a890df9f0e9e0a2b58a5c9c932  224-222@5xc-jw2-t9z   \n",
       "1903  Q14YAAAAYAAJ  97b774130d1301292f3332a4dca59196  228-222@5xc-jtz-hwk   \n",
       "\n",
       "     date_checkout date_returned  days_diff  \n",
       "0       2019-01-28    2018-11-13      -76.0  \n",
       "680     2019-01-04    2018-12-25      -10.0  \n",
       "843     2019-01-17    2018-12-27      -21.0  \n",
       "1229    2019-02-04    2018-09-26     -131.0  \n",
       "1756    2019-01-27    2018-09-23     -126.0  \n",
       "1903    2019-01-05    2018-12-29       -7.0  "
      ]
     },
     "execution_count": 91,
     "metadata": {},
     "output_type": "execute_result"
    }
   ],
   "source": [
    "# All valid samples in this dataset have checkout year = 2018\n",
    "# Days diff has negative values whenever date checkout is from 2019\n",
    "checkouts_df[checkouts_df['date_checkout'].dt.year==2019]"
   ]
  },
  {
   "cell_type": "markdown",
   "metadata": {},
   "source": [
    "#### Attempt to fix typos for years"
   ]
  },
  {
   "cell_type": "code",
   "execution_count": null,
   "metadata": {},
   "outputs": [],
   "source": [
    "# Set up possible valid years for checkout and return\n",
    "RETURN_VALID_YEARS = (2018, 2019)\n",
    "VALID_YEAR_CHECKOUT = 2018\n",
    "\n",
    "def fix_dates(row: pd.Series):\n",
    "    \"\"\"\n",
    "    Fixes/imputes year in returned or checkout\n",
    "    date whenever this is needed/possible.\n",
    "\n",
    "    Args:\n",
    "        row (pd.Series): One df row\n",
    "\n",
    "    Returns:\n",
    "        Fixed dates and sample type based on fix.\n",
    "    \"\"\"\n",
    "    \n",
    "    # Get dates\n",
    "    date_checkout = row['date_checkout']\n",
    "    date_return = row['date_returned']\n",
    "    \n",
    "    # If row dates are already declared as valid, sample type is valid\n",
    "    if row['valid']:\n",
    "        sample_type = 'valid'\n",
    "    # If row dates are declared as non-reparable, declare sample as invalid\n",
    "    elif row['invalid']:\n",
    "        sample_type = 'invalid'\n",
    "    # Declare samples with missing return date as 'no return'\n",
    "    elif pd.isna(date_return):\n",
    "        sample_type = 'no_return'\n",
    "    \n",
    "    # If checkout year is not 2018, then set it to 2018 and declate sample as 'checkout_fixed'\n",
    "    # If, after the fix, days_diff turns out to be negative, declate sample to be invalid\n",
    "    elif date_checkout.year != VALID_YEAR_CHECKOUT:\n",
    "        date_checkout = date_checkout.replace(year=VALID_YEAR_CHECKOUT)\n",
    "        delta = (date_return - date_checkout).days\n",
    "        \n",
    "        if delta > 0:\n",
    "            sample_type = 'checkout_fixed'\n",
    "        else:\n",
    "            sample_type = 'invalid'\n",
    "    \n",
    "    # If return year is not 2018 or 2019, set it to 2018 or 2019\n",
    "    # Start by setting return year to checkout year\n",
    "    # If days_diff turns out to be negative, then set return year to checout year + 1\n",
    "    elif date_return.year not in RETURN_VALID_YEARS:\n",
    "        if (date_return.replace(year=date_checkout.year) - date_checkout).days > 0:\n",
    "            date_return = date_return.replace(year=date_checkout.year) \n",
    "            sample_type = 'return_fixed'\n",
    "        else:\n",
    "            date_return = date_return.replace(year=date_checkout.year + 1) \n",
    "            sample_type = 'return_fixed_up'\n",
    "            \n",
    "    else:\n",
    "        sample_type = 'invalid' \n",
    "    \n",
    "    # Return original/fixed dates and sample type based\n",
    "    # on how dates were imputed\n",
    "    return pd.Series({\n",
    "        'date_checkout_fix': date_checkout,\n",
    "        'date_returned_fix': date_return,\n",
    "        'sample_type': sample_type \n",
    "    })"
   ]
  },
  {
   "cell_type": "code",
   "execution_count": null,
   "metadata": {},
   "outputs": [],
   "source": [
    "# Check if dates in the sample are completely valid\n",
    "# Sample is valid when both dates contain valid years and days_diff is not negative\n",
    "checkouts_df['valid'] = (\n",
    "    (checkouts_df['days_diff'] > 0) \n",
    "    & (checkouts_df['date_checkout'].dt.year == VALID_YEAR_CHECKOUT) \n",
    "    & (checkouts_df['date_returned'].dt.year.isin(RETURN_VALID_YEARS))\n",
    ")\n",
    "\n",
    "# Check if sample is invalid and dates are imposible to fix\n",
    "# Sample is declared invalid if date_checkout is missing or if both dates contain valid years byt days_diff is negative\n",
    "checkouts_df['invalid'] = (\n",
    "    pd.isna(checkouts_df['date_checkout'])\n",
    "    | ~((checkouts_df['date_checkout'].dt.year == VALID_YEAR_CHECKOUT) | (checkouts_df['date_returned'].dt.year.isin(RETURN_VALID_YEARS)))\n",
    ")\n",
    "\n",
    "# Fix dates\n",
    "checkouts_df[['date_checkout_fix', 'date_returned_fix', 'sample_type']] = checkouts_df.apply(fix_dates, axis=1)"
   ]
  },
  {
   "cell_type": "code",
   "execution_count": 94,
   "metadata": {},
   "outputs": [],
   "source": [
    "# Calculate new days_diff based on fixed dates\n",
    "checkouts_df['fixed_days_diff'] = (checkouts_df['date_returned_fix'] - checkouts_df['date_checkout_fix']).dt.days"
   ]
  },
  {
   "cell_type": "code",
   "execution_count": 95,
   "metadata": {},
   "outputs": [
    {
     "data": {
      "text/plain": [
       "sample_type\n",
       "valid              1435\n",
       "invalid             163\n",
       "checkout_fixed       95\n",
       "return_fixed_up      91\n",
       "return_fixed         86\n",
       "no_return            65\n",
       "Name: count, dtype: int64"
      ]
     },
     "execution_count": 95,
     "metadata": {},
     "output_type": "execute_result"
    }
   ],
   "source": [
    "# Check distribution of sample types\n",
    "checkouts_df['sample_type'].value_counts()"
   ]
  },
  {
   "cell_type": "markdown",
   "metadata": {},
   "source": [
    "## Plot distributions\n",
    "\n",
    "We can observe that distribution of fixed samples looks different compared to distribution of valid samples.\n",
    "\n",
    "This possibly indicates that days_diff in fixed samples is of low quality."
   ]
  },
  {
   "cell_type": "code",
   "execution_count": 96,
   "metadata": {},
   "outputs": [
    {
     "data": {
      "text/plain": [
       "<Axes: >"
      ]
     },
     "execution_count": 96,
     "metadata": {},
     "output_type": "execute_result"
    },
    {
     "data": {
      "image/png": "[encoded data removed]",
      "text/plain": [
       "<Figure size 640x480 with 1 Axes>"
      ]
     },
     "metadata": {},
     "output_type": "display_data"
    }
   ],
   "source": [
    "# Distribution of valid samples\n",
    "checkouts_df.loc[checkouts_df['sample_type']=='valid', 'fixed_days_diff'].hist(bins=30)"
   ]
  },
  {
   "cell_type": "code",
   "execution_count": null,
   "metadata": {},
   "outputs": [
    {
     "data": {
      "text/plain": [
       "<Axes: >"
      ]
     },
     "execution_count": 18,
     "metadata": {},
     "output_type": "execute_result"
    },
    {
     "data": {
      "image/png": "[encoded data removed]",
      "text/plain": [
       "<Figure size 640x480 with 1 Axes>"
      ]
     },
     "metadata": {},
     "output_type": "display_data"
    }
   ],
   "source": [
    "# Distributions for samples with fixed checkout date\n",
    "checkouts_df.loc[checkouts_df['sample_type']=='checkout_fixed', 'fixed_days_diff'].hist(bins=30)"
   ]
  },
  {
   "cell_type": "code",
   "execution_count": null,
   "metadata": {},
   "outputs": [
    {
     "data": {
      "text/plain": [
       "<Axes: >"
      ]
     },
     "execution_count": 19,
     "metadata": {},
     "output_type": "execute_result"
    },
    {
     "data": {
      "image/png": "[encoded data removed]",
      "text/plain": [
       "<Figure size 640x480 with 1 Axes>"
      ]
     },
     "metadata": {},
     "output_type": "display_data"
    }
   ],
   "source": [
    "# Distribution of days_diff for samples with fixed return dates\n",
    "checkouts_df.loc[checkouts_df['sample_type']=='return_fixed', 'fixed_days_diff'].hist(bins=30)"
   ]
  },
  {
   "cell_type": "code",
   "execution_count": null,
   "metadata": {},
   "outputs": [
    {
     "data": {
      "text/plain": [
       "<Axes: >"
      ]
     },
     "execution_count": 20,
     "metadata": {},
     "output_type": "execute_result"
    },
    {
     "data": {
      "image/png": "[encoded data removed]",
      "text/plain": [
       "<Figure size 640x480 with 1 Axes>"
      ]
     },
     "metadata": {},
     "output_type": "display_data"
    }
   ],
   "source": [
    "# Distribution of days_diff for samples with fixed return dates (where we used checkout year + 1 as return year)\n",
    "checkouts_df.loc[checkouts_df['sample_type']=='return_fixed_up', 'fixed_days_diff'].hist(bins=30)"
   ]
  },
  {
   "cell_type": "code",
   "execution_count": null,
   "metadata": {},
   "outputs": [],
   "source": [
    "# Save processed data to file \n",
    "checkouts_df.to_csv('data_preprocessed/checkouts_processed.csv', index=False)"
   ]
  }
 ],
 "metadata": {
  "kernelspec": {
   "display_name": "insights-lib--knkMJpa-py3.10",
   "language": "python",
   "name": "python3"
  },
  "language_info": {
   "codemirror_mode": {
    "name": "ipython",
    "version": 3
   },
   "file_extension": ".py",
   "mimetype": "text/x-python",
   "name": "python",
   "nbconvert_exporter": "python",
   "pygments_lexer": "ipython3",
   "version": "3.10.8"
  }
 },
 "nbformat": 4,
 "nbformat_minor": 2
}
