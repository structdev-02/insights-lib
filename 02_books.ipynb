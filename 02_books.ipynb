{
 "cells": [
  {
   "cell_type": "code",
   "execution_count": 1,
   "metadata": {},
   "outputs": [],
   "source": [
    "import pandas as pd\n",
    "\n",
    "from sklearn.impute import SimpleImputer\n",
    "\n",
    "pd.set_option('display.max_columns', None)\n",
    "pd.set_option('display.max_rows', None)"
   ]
  },
  {
   "cell_type": "markdown",
   "metadata": {},
   "source": [
    "# Books table\n",
    "\n",
    "# Books Table\n",
    "\n",
    "This notebook contains exploratory data analysis (EDA) and preprocessing steps for the `books` table.\n",
    "\n",
    "The main preprocessing tasks include:\n",
    "- Cleaning and formatting the `price` and `pages` columns\n",
    "- Calculating the age of each book based on its publication year\n",
    "\n",
    "Other columns (such as authors, publisher and categories) are excluded from modeling due to high cardinality and limited feature utility.\n"
   ]
  },
  {
   "cell_type": "markdown",
   "metadata": {},
   "source": [
    "## Load books"
   ]
  },
  {
   "cell_type": "code",
   "execution_count": 2,
   "metadata": {},
   "outputs": [
    {
     "data": {
      "text/html": [
       "<div>\n",
       "<style scoped>\n",
       "    .dataframe tbody tr th:only-of-type {\n",
       "        vertical-align: middle;\n",
       "    }\n",
       "\n",
       "    .dataframe tbody tr th {\n",
       "        vertical-align: top;\n",
       "    }\n",
       "\n",
       "    .dataframe thead th {\n",
       "        text-align: right;\n",
       "    }\n",
       "</style>\n",
       "<table border=\"1\" class=\"dataframe\">\n",
       "  <thead>\n",
       "    <tr style=\"text-align: right;\">\n",
       "      <th></th>\n",
       "      <th>id</th>\n",
       "      <th>title</th>\n",
       "      <th>authors</th>\n",
       "      <th>publisher</th>\n",
       "      <th>publishedDate</th>\n",
       "      <th>categories</th>\n",
       "      <th>price</th>\n",
       "      <th>pages</th>\n",
       "    </tr>\n",
       "  </thead>\n",
       "  <tbody>\n",
       "    <tr>\n",
       "      <th>0</th>\n",
       "      <td>hVFwAAAAQBAJ</td>\n",
       "      <td>Ogilvy on Advertising</td>\n",
       "      <td>['David Ogilvy']</td>\n",
       "      <td>Vintage</td>\n",
       "      <td>2013-09-11</td>\n",
       "      <td>['Social Science']</td>\n",
       "      <td>72.99</td>\n",
       "      <td>320</td>\n",
       "    </tr>\n",
       "    <tr>\n",
       "      <th>1</th>\n",
       "      <td>bRY9AAAAYAAJ</td>\n",
       "      <td>Foreign Publications for Advertising American ...</td>\n",
       "      <td>['United States. Bureau of Foreign and Domesti...</td>\n",
       "      <td>NaN</td>\n",
       "      <td>1913</td>\n",
       "      <td>['Advertising']</td>\n",
       "      <td>469.99</td>\n",
       "      <td>654</td>\n",
       "    </tr>\n",
       "    <tr>\n",
       "      <th>2</th>\n",
       "      <td>ZapAAAAAIAAJ</td>\n",
       "      <td>Advertising and the Public Interest</td>\n",
       "      <td>['John A. Howard', 'James Hulbert']</td>\n",
       "      <td>NaN</td>\n",
       "      <td>1973</td>\n",
       "      <td>['Advertising']</td>\n",
       "      <td>372.0</td>\n",
       "      <td>784</td>\n",
       "    </tr>\n",
       "    <tr>\n",
       "      <th>3</th>\n",
       "      <td>A-HthMfF5moC</td>\n",
       "      <td>Profitable Advertising</td>\n",
       "      <td>NaN</td>\n",
       "      <td>NaN</td>\n",
       "      <td>1894</td>\n",
       "      <td>['Advertising']</td>\n",
       "      <td>240.99USD</td>\n",
       "      <td>559</td>\n",
       "    </tr>\n",
       "    <tr>\n",
       "      <th>4</th>\n",
       "      <td>4Z9JAAAAMAAJ</td>\n",
       "      <td>Report of the Federal Trade Commission on Dist...</td>\n",
       "      <td>['United States. Federal Trade Commission']</td>\n",
       "      <td>NaN</td>\n",
       "      <td>1944</td>\n",
       "      <td>['Government publications']</td>\n",
       "      <td>539.0</td>\n",
       "      <td>757</td>\n",
       "    </tr>\n",
       "  </tbody>\n",
       "</table>\n",
       "</div>"
      ],
      "text/plain": [
       "             id                                              title  \\\n",
       "0  hVFwAAAAQBAJ                              Ogilvy on Advertising   \n",
       "1  bRY9AAAAYAAJ  Foreign Publications for Advertising American ...   \n",
       "2  ZapAAAAAIAAJ                Advertising and the Public Interest   \n",
       "3  A-HthMfF5moC                             Profitable Advertising   \n",
       "4  4Z9JAAAAMAAJ  Report of the Federal Trade Commission on Dist...   \n",
       "\n",
       "                                             authors publisher publishedDate  \\\n",
       "0                                   ['David Ogilvy']   Vintage    2013-09-11   \n",
       "1  ['United States. Bureau of Foreign and Domesti...       NaN          1913   \n",
       "2                ['John A. Howard', 'James Hulbert']       NaN          1973   \n",
       "3                                                NaN       NaN          1894   \n",
       "4        ['United States. Federal Trade Commission']       NaN          1944   \n",
       "\n",
       "                    categories      price pages  \n",
       "0           ['Social Science']      72.99   320  \n",
       "1              ['Advertising']     469.99   654  \n",
       "2              ['Advertising']      372.0   784  \n",
       "3              ['Advertising']  240.99USD   559  \n",
       "4  ['Government publications']      539.0   757  "
      ]
     },
     "execution_count": 2,
     "metadata": {},
     "output_type": "execute_result"
    }
   ],
   "source": [
    "file_path = 'data/books.csv'\n",
    "books_df = pd.read_csv(file_path)\n",
    "books_df.head()"
   ]
  },
  {
   "cell_type": "code",
   "execution_count": 3,
   "metadata": {},
   "outputs": [
    {
     "name": "stdout",
     "output_type": "stream",
     "text": [
      "<class 'pandas.core.frame.DataFrame'>\n",
      "RangeIndex: 240 entries, 0 to 239\n",
      "Data columns (total 8 columns):\n",
      " #   Column         Non-Null Count  Dtype \n",
      "---  ------         --------------  ----- \n",
      " 0   id             240 non-null    object\n",
      " 1   title          240 non-null    object\n",
      " 2   authors        173 non-null    object\n",
      " 3   publisher      94 non-null     object\n",
      " 4   publishedDate  238 non-null    object\n",
      " 5   categories     201 non-null    object\n",
      " 6   price          238 non-null    object\n",
      " 7   pages          240 non-null    object\n",
      "dtypes: object(8)\n",
      "memory usage: 15.1+ KB\n"
     ]
    }
   ],
   "source": [
    "# Check data types and number of missing values\n",
    "books_df.info()"
   ]
  },
  {
   "cell_type": "markdown",
   "metadata": {},
   "source": [
    "## Analyze authors and publishers"
   ]
  },
  {
   "cell_type": "code",
   "execution_count": 4,
   "metadata": {},
   "outputs": [
    {
     "data": {
      "text/plain": [
       "64"
      ]
     },
     "execution_count": 4,
     "metadata": {},
     "output_type": "execute_result"
    }
   ],
   "source": [
    "# Publishers cardinality is very high - not a good feature candidate\n",
    "books_df['publisher'].nunique()"
   ]
  },
  {
   "cell_type": "code",
   "execution_count": 5,
   "metadata": {},
   "outputs": [
    {
     "data": {
      "text/plain": [
       "171"
      ]
     },
     "execution_count": 5,
     "metadata": {},
     "output_type": "execute_result"
    }
   ],
   "source": [
    "# Cardinality for authors is too high  - not a good feature candidate\n",
    "books_df['authors'].nunique()"
   ]
  },
  {
   "cell_type": "code",
   "execution_count": 6,
   "metadata": {},
   "outputs": [
    {
     "data": {
      "text/plain": [
       "87"
      ]
     },
     "execution_count": 6,
     "metadata": {},
     "output_type": "execute_result"
    }
   ],
   "source": [
    "# Cardinality for categories is too high  - not a good feature candidate\n",
    "books_df['categories'].nunique()"
   ]
  },
  {
   "cell_type": "markdown",
   "metadata": {},
   "source": [
    "## Analyze prices and pages"
   ]
  },
  {
   "cell_type": "code",
   "execution_count": 7,
   "metadata": {},
   "outputs": [],
   "source": [
    "# Format price and pages\n",
    "# Cast price to float and pages to int\n",
    "books_df['price'] = books_df['price'].str.extract(r'(\\d+(?:\\.\\d+)?)').astype(float)\n",
    "books_df['pages'] = books_df['pages'].str.extract(r'(\\d+(?:\\.\\d+)?)').astype(int)\n",
    "\n",
    "# Impute price with median values\n",
    "books_df['price_imputed'] = pd.isna(books_df['price'])\n",
    "\n",
    "imp_median = SimpleImputer(strategy='median') \n",
    "books_df[['price']] = imp_median.fit_transform(books_df[['price']])"
   ]
  },
  {
   "cell_type": "markdown",
   "metadata": {},
   "source": [
    "## Analyze publish dates"
   ]
  },
  {
   "cell_type": "code",
   "execution_count": 8,
   "metadata": {},
   "outputs": [
    {
     "name": "stdout",
     "output_type": "stream",
     "text": [
      "<class 'pandas.core.frame.DataFrame'>\n",
      "RangeIndex: 240 entries, 0 to 239\n",
      "Data columns (total 9 columns):\n",
      " #   Column         Non-Null Count  Dtype  \n",
      "---  ------         --------------  -----  \n",
      " 0   id             240 non-null    object \n",
      " 1   title          240 non-null    object \n",
      " 2   authors        173 non-null    object \n",
      " 3   publisher      94 non-null     object \n",
      " 4   publishedDate  238 non-null    object \n",
      " 5   categories     201 non-null    object \n",
      " 6   price          240 non-null    float64\n",
      " 7   pages          240 non-null    int64  \n",
      " 8   price_imputed  240 non-null    bool   \n",
      "dtypes: bool(1), float64(1), int64(1), object(6)\n",
      "memory usage: 15.4+ KB\n"
     ]
    }
   ],
   "source": [
    "books_df.info()"
   ]
  },
  {
   "cell_type": "code",
   "execution_count": null,
   "metadata": {},
   "outputs": [],
   "source": [
    "# Calculate book age compared to year 2019\n",
    "# Imute missing valyes with median\n",
    "\n",
    "books_df['publishedDate'] = pd.to_datetime(books_df['publishedDate'], errors='coerce', format='mixed').dt.year\n",
    "books_df['book_age'] = 2019 - books_df['publishedDate'] \n",
    "\n",
    "books_df['book_age_imputed'] = (pd.isna(books_df['book_age'])) | (books_df['book_age']<0)\n",
    "\n",
    "books_df.loc[books_df['book_age_imputed'], 'book_age'] = None\n",
    "imp_median = SimpleImputer(strategy='median') \n",
    "books_df[['book_age']] = imp_median.fit_transform(books_df[['book_age']])\n",
    "\n",
    "# Save preprocessed books dataset\n",
    "books_df.to_csv('data_preprocessed/books_processed.csv')"
   ]
  }
 ],
 "metadata": {
  "kernelspec": {
   "display_name": "insights-lib--knkMJpa-py3.10",
   "language": "python",
   "name": "python3"
  },
  "language_info": {
   "codemirror_mode": {
    "name": "ipython",
    "version": 3
   },
   "file_extension": ".py",
   "mimetype": "text/x-python",
   "name": "python",
   "nbconvert_exporter": "python",
   "pygments_lexer": "ipython3",
   "version": "3.10.8"
  }
 },
 "nbformat": 4,
 "nbformat_minor": 2
}
